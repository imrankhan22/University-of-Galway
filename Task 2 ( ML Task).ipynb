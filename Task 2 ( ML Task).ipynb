{
 "cells": [
  {
   "cell_type": "markdown",
   "id": "4a500473-ed81-4cd7-85f6-73361617b485",
   "metadata": {},
   "source": [
    "# Machine Learning Task\n",
    "\n",
    "\n",
    "Can we apply machine learning to this dataset? If yes, then show us how, apply at least two different machine learning algorithms, and compare their results?\n",
    "\n",
    "## Answere is Yes: \n",
    "Yes we can apply Machine Learing on this dataset, since it's classification problem we will apply two different classification algorithsm. the dataset is divided into two parts. the first sheet dataset which is biopsy before surgery and the second part is which has volume and age is after the surgery for the detection of prostate cancer. \n",
    "\n",
    "In the biospy sheet we will consider Gleason_SB_TB as input and PIRADS as output.based on the gleason combine socre we will train our ML model to predict PIRADS grading system.\n",
    "\n",
    "I am going to use 2 different algorithm on each dataset:\n",
    "\n",
    "\n",
    "* Support Vector Machine (SVC)\n",
    "* Naive Bayes Classification\n",
    "\n",
    "\n",
    "Let's take a look at these steps\n",
    "\n",
    "# Steps\n",
    "1. Importing Libraries and Data\n",
    "2. Having Idea About Data\n",
    "1. Data Prepartion for Machine Learning\n",
    "1. Confusion Matrix Function\n",
    "1. Machine Learning Algorithms\n",
    "    * SVM Classification\n",
    "    * Naive Bayes Classification\n",
    "1. Result\n",
    "\n"
   ]
  },
  {
   "cell_type": "markdown",
   "id": "d5e9f198-ca54-41ce-b9d7-527128d2e9df",
   "metadata": {
    "tags": []
   },
   "source": [
    "## Step 1: Import Useful Libraries and Data"
   ]
  },
  {
   "cell_type": "code",
   "execution_count": 109,
   "id": "f7d906de-7c12-4ae9-af7e-2773d2f28014",
   "metadata": {},
   "outputs": [],
   "source": [
    "# For data analysis, we import pandas library\n",
    "import pandas as pd\n",
    "\n",
    "# For numerical computation, we will use numpy library\n",
    "import numpy as np\n",
    "\n",
    "# For data visualization, we will use matplotlib and seaborn library\n",
    "import matplotlib.pyplot as plt\n",
    "import seaborn as sns\n",
    "\n",
    "# For machine learning and data prepartion we will use the following library.\n",
    "from sklearn.model_selection import train_test_split\n",
    "from sklearn.metrics import confusion_matrix\n",
    "from sklearn.svm import SVC \n",
    "from sklearn.naive_bayes import GaussianNB\n"
   ]
  },
  {
   "cell_type": "code",
   "execution_count": 110,
   "id": "0858c884-4c20-460d-8df5-1b2c0dd58ffe",
   "metadata": {},
   "outputs": [],
   "source": [
    "#load data from excel file, since we have two sheets we will load them separately\n",
    "baseline = pd.read_excel(\"MRI_Biopsy_Data.xls\", sheet_name=\"Baseline\")\n",
    "biopsy = pd.read_excel(\"MRI_Biopsy_Data.xls\", sheet_name=\"Biopsy\")\n"
   ]
  },
  {
   "cell_type": "markdown",
   "id": "5b334ba7-108b-4603-bde3-df1d404c648c",
   "metadata": {
    "tags": []
   },
   "source": [
    "## Step 2: Having Idea About Data"
   ]
  },
  {
   "cell_type": "code",
   "execution_count": 111,
   "id": "b277046a-e919-440f-825f-bb484e697190",
   "metadata": {},
   "outputs": [
    {
     "data": {
      "text/html": [
       "<div>\n",
       "<style scoped>\n",
       "    .dataframe tbody tr th:only-of-type {\n",
       "        vertical-align: middle;\n",
       "    }\n",
       "\n",
       "    .dataframe tbody tr th {\n",
       "        vertical-align: top;\n",
       "    }\n",
       "\n",
       "    .dataframe thead th {\n",
       "        text-align: right;\n",
       "    }\n",
       "</style>\n",
       "<table border=\"1\" class=\"dataframe\">\n",
       "  <thead>\n",
       "    <tr style=\"text-align: right;\">\n",
       "      <th></th>\n",
       "      <th>Age</th>\n",
       "      <th>PSA</th>\n",
       "      <th>Volume</th>\n",
       "      <th>PSAD</th>\n",
       "      <th>PIRADS</th>\n",
       "      <th>ISUP</th>\n",
       "    </tr>\n",
       "  </thead>\n",
       "  <tbody>\n",
       "    <tr>\n",
       "      <th>729</th>\n",
       "      <td>59</td>\n",
       "      <td>5.04</td>\n",
       "      <td>30.7</td>\n",
       "      <td>0.164169</td>\n",
       "      <td>5</td>\n",
       "      <td>4</td>\n",
       "    </tr>\n",
       "    <tr>\n",
       "      <th>226</th>\n",
       "      <td>74</td>\n",
       "      <td>3.70</td>\n",
       "      <td>21.1</td>\n",
       "      <td>0.175355</td>\n",
       "      <td>4</td>\n",
       "      <td>0</td>\n",
       "    </tr>\n",
       "    <tr>\n",
       "      <th>172</th>\n",
       "      <td>67</td>\n",
       "      <td>15.00</td>\n",
       "      <td>24.0</td>\n",
       "      <td>0.625000</td>\n",
       "      <td>3</td>\n",
       "      <td>0</td>\n",
       "    </tr>\n",
       "    <tr>\n",
       "      <th>587</th>\n",
       "      <td>55</td>\n",
       "      <td>15.30</td>\n",
       "      <td>64.0</td>\n",
       "      <td>0.239063</td>\n",
       "      <td>4</td>\n",
       "      <td>5</td>\n",
       "    </tr>\n",
       "    <tr>\n",
       "      <th>57</th>\n",
       "      <td>61</td>\n",
       "      <td>7.69</td>\n",
       "      <td>51.0</td>\n",
       "      <td>0.150784</td>\n",
       "      <td>3</td>\n",
       "      <td>0</td>\n",
       "    </tr>\n",
       "  </tbody>\n",
       "</table>\n",
       "</div>"
      ],
      "text/plain": [
       "     Age    PSA  Volume      PSAD  PIRADS  ISUP\n",
       "729   59   5.04    30.7  0.164169       5     4\n",
       "226   74   3.70    21.1  0.175355       4     0\n",
       "172   67  15.00    24.0  0.625000       3     0\n",
       "587   55  15.30    64.0  0.239063       4     5\n",
       "57    61   7.69    51.0  0.150784       3     0"
      ]
     },
     "execution_count": 111,
     "metadata": {},
     "output_type": "execute_result"
    }
   ],
   "source": [
    "# check 5 random sample values from  Baseline Sheet\n",
    "baseline.sample(5)"
   ]
  },
  {
   "cell_type": "code",
   "execution_count": 112,
   "id": "7cf251dd-2fce-4d2a-bb64-e9d6c7f78640",
   "metadata": {},
   "outputs": [
    {
     "data": {
      "text/html": [
       "<div>\n",
       "<style scoped>\n",
       "    .dataframe tbody tr th:only-of-type {\n",
       "        vertical-align: middle;\n",
       "    }\n",
       "\n",
       "    .dataframe tbody tr th {\n",
       "        vertical-align: top;\n",
       "    }\n",
       "\n",
       "    .dataframe thead th {\n",
       "        text-align: right;\n",
       "    }\n",
       "</style>\n",
       "<table border=\"1\" class=\"dataframe\">\n",
       "  <thead>\n",
       "    <tr style=\"text-align: right;\">\n",
       "      <th></th>\n",
       "      <th>PIRADS</th>\n",
       "      <th>Gleason_SB_TB</th>\n",
       "      <th>Gleason_TB</th>\n",
       "      <th>Gleason_SB</th>\n",
       "      <th>Scanner</th>\n",
       "      <th>IL_Localisation*</th>\n",
       "      <th>IL_Diameter*</th>\n",
       "    </tr>\n",
       "  </thead>\n",
       "  <tbody>\n",
       "    <tr>\n",
       "      <th>432</th>\n",
       "      <td>3</td>\n",
       "      <td>6.0</td>\n",
       "      <td>0.0</td>\n",
       "      <td>6.0</td>\n",
       "      <td>3.0</td>\n",
       "      <td>2</td>\n",
       "      <td>13.0</td>\n",
       "    </tr>\n",
       "    <tr>\n",
       "      <th>95</th>\n",
       "      <td>3</td>\n",
       "      <td>0.0</td>\n",
       "      <td>0.0</td>\n",
       "      <td>0.0</td>\n",
       "      <td>1.0</td>\n",
       "      <td>1</td>\n",
       "      <td>13.0</td>\n",
       "    </tr>\n",
       "    <tr>\n",
       "      <th>313</th>\n",
       "      <td>4</td>\n",
       "      <td>0.0</td>\n",
       "      <td>0.0</td>\n",
       "      <td>0.0</td>\n",
       "      <td>2.0</td>\n",
       "      <td>2</td>\n",
       "      <td>12.0</td>\n",
       "    </tr>\n",
       "    <tr>\n",
       "      <th>41</th>\n",
       "      <td>3</td>\n",
       "      <td>0.0</td>\n",
       "      <td>0.0</td>\n",
       "      <td>0.0</td>\n",
       "      <td>1.0</td>\n",
       "      <td>2</td>\n",
       "      <td>16.0</td>\n",
       "    </tr>\n",
       "    <tr>\n",
       "      <th>389</th>\n",
       "      <td>5</td>\n",
       "      <td>7.0</td>\n",
       "      <td>7.0</td>\n",
       "      <td>0.0</td>\n",
       "      <td>1.0</td>\n",
       "      <td>3</td>\n",
       "      <td>18.0</td>\n",
       "    </tr>\n",
       "  </tbody>\n",
       "</table>\n",
       "</div>"
      ],
      "text/plain": [
       "     PIRADS  Gleason_SB_TB  Gleason_TB  Gleason_SB  Scanner IL_Localisation*  \\\n",
       "432       3            6.0         0.0         6.0      3.0                2   \n",
       "95        3            0.0         0.0         0.0      1.0                1   \n",
       "313       4            0.0         0.0         0.0      2.0                2   \n",
       "41        3            0.0         0.0         0.0      1.0                2   \n",
       "389       5            7.0         7.0         0.0      1.0                3   \n",
       "\n",
       "     IL_Diameter*  \n",
       "432          13.0  \n",
       "95           13.0  \n",
       "313          12.0  \n",
       "41           16.0  \n",
       "389          18.0  "
      ]
     },
     "execution_count": 112,
     "metadata": {},
     "output_type": "execute_result"
    }
   ],
   "source": [
    "# check 5 random sample values from  Biopsy Sheet\n",
    "biopsy.sample(5)"
   ]
  },
  {
   "cell_type": "markdown",
   "id": "aa4a0aa1-6222-48fa-ab1f-8d4c9a520154",
   "metadata": {},
   "source": [
    "## Step 3: Data Prepartion for Machine Learning\n",
    "\n",
    "In this section I am going to split data into two pieces. Train and test. In order to do this I am going to use SKLearn library's Train Test Split Function."
   ]
  },
  {
   "cell_type": "code",
   "execution_count": 113,
   "id": "1e1d99bf-af47-4a06-8670-00d06052796b",
   "metadata": {},
   "outputs": [],
   "source": [
    "#Before surgery data split\n",
    "biopsy_input = np.array(biopsy['Gleason_SB_TB'])\n",
    "biopsy_output = np.array(biopsy[\"PIRADS\"])\n",
    "\n",
    "\n",
    "\n",
    "#After Sugery datasplit\n",
    "baseline_output = np.array(baseline[\"PIRADS\"])\n",
    "baseline_input = baseline.copy()\n",
    "baseline_input.drop(['PIRADS', 'ISUP'], axis = 1, inplace = True)\n",
    "baseline_input=np.array(baseline_input)\n",
    "baseline_input=np.where(np.isnan(baseline_input), 0, baseline_input)\n",
    "baseline_output=np.where(np.isnan(baseline_output), 0, baseline_output)\n"
   ]
  },
  {
   "cell_type": "code",
   "execution_count": 114,
   "id": "557d518e-d406-4f0b-b240-6b930cfc458b",
   "metadata": {},
   "outputs": [],
   "source": [
    "#Before surgery Test train split\n",
    "x_train_biopsy,x_test_biopsy,y_train_biopsy,y_test_biopsy = train_test_split(biopsy_input,biopsy_output,random_state=1,test_size=0.3)\n",
    "\n",
    "#after surgery Test train split\n",
    "x_train_baseline,x_test_baseline,y_train_baseline,y_test_baseline = train_test_split(baseline_input,baseline_output,random_state=1,test_size=0.3)"
   ]
  },
  {
   "cell_type": "markdown",
   "id": "ac142099-0eb1-480f-964c-193c7282b485",
   "metadata": {},
   "source": [
    "## Step 4: Confusion Matrix Function\n",
    "\n",
    "In this section I am going to define a function that creates a seaborn heatmap from a confusion matrix."
   ]
  },
  {
   "cell_type": "code",
   "execution_count": 115,
   "id": "cb0df0fd-3dca-4b92-963d-2f90de1ae893",
   "metadata": {},
   "outputs": [],
   "source": [
    "def plot_confusionMatrix(y_true,y_pred):\n",
    "    cn = confusion_matrix(y_true=y_true,y_pred=y_pred)\n",
    "    \n",
    "    fig,ax = plt.subplots(figsize=(5,5))\n",
    "    sns.heatmap(cn,annot=True,linewidths=1.5)\n",
    "    plt.show()\n",
    "    return cn"
   ]
  },
  {
   "cell_type": "code",
   "execution_count": 116,
   "id": "a973a8bc-c22f-42b8-b1d1-d857956447a4",
   "metadata": {},
   "outputs": [],
   "source": [
    "score_list_biopsy = {} # I've created this dict for saving score variables into it of both experiments \n",
    "score_list_baseline = {} # I've created this dict for saving score variables into it of both experiments"
   ]
  },
  {
   "cell_type": "markdown",
   "id": "7417c873-90a9-400f-a2e1-9e9ebc0d47dc",
   "metadata": {},
   "source": [
    "## Step 5: Machine Learning Algorithms"
   ]
  },
  {
   "cell_type": "markdown",
   "id": "f0b0b5a7-803e-4310-a921-9e01f14b735e",
   "metadata": {},
   "source": [
    "### Support Vector Machine Classification\n",
    "In this section I am going to use SVM classification on both dataset before and after surgery for prostate detection."
   ]
  },
  {
   "cell_type": "markdown",
   "id": "80ec1302-c2ef-4ddd-86a3-8e1793f44bca",
   "metadata": {},
   "source": [
    "#### SVM on Before surgery dataset"
   ]
  },
  {
   "cell_type": "code",
   "execution_count": 117,
   "id": "ad8fc67c-4e94-4e25-b02c-1b3f2b088aa5",
   "metadata": {},
   "outputs": [
    {
     "name": "stdout",
     "output_type": "stream",
     "text": [
      "Score is 0.4872881355932203\n"
     ]
    },
    {
     "name": "stderr",
     "output_type": "stream",
     "text": [
      "D:\\Interviews Stuff\\University of Galway\\Dataset\\packages\\lib\\site-packages\\sklearn\\utils\\validation.py:1141: DataConversionWarning: A column-vector y was passed when a 1d array was expected. Please change the shape of y to (n_samples, ), for example using ravel().\n",
      "  y = column_or_1d(y, warn=True)\n"
     ]
    }
   ],
   "source": [
    "svc = SVC()\n",
    "svc.fit(x_train_biopsy.reshape(-1, 1),y_train_biopsy.reshape(-1, 1))\n",
    "svc_score = svc.score(x_test_biopsy.reshape(-1, 1),y_test_biopsy.reshape(-1, 1))\n",
    "score_list_biopsy[\"SVC\"] = svc_score\n",
    "print(f\"Score is {svc_score}\")"
   ]
  },
  {
   "cell_type": "markdown",
   "id": "2481def8-103f-43fc-a4eb-2527148b3004",
   "metadata": {},
   "source": [
    "* Our first algorithm's score is 48%. I think it is low, we  need further Literature"
   ]
  },
  {
   "cell_type": "code",
   "execution_count": 118,
   "id": "0fbbc8a4-8501-46dc-b191-d3de282cda65",
   "metadata": {},
   "outputs": [
    {
     "data": {
      "image/png": "[encoded data removed]",
      "text/plain": [
       "<Figure size 500x500 with 2 Axes>"
      ]
     },
     "metadata": {},
     "output_type": "display_data"
    },
    {
     "data": {
      "text/plain": [
       "array([[  0,   0,   0,   1,   0],\n",
       "       [  0,   0,   0,   8,   0],\n",
       "       [  0,   0,   0,  56,   0],\n",
       "       [  0,   0,   0, 107,   5],\n",
       "       [  0,   0,   0,  51,   8]], dtype=int64)"
      ]
     },
     "execution_count": 118,
     "metadata": {},
     "output_type": "execute_result"
    }
   ],
   "source": [
    "y_pred_biopsy = svc.predict(x_test_biopsy.reshape(-1, 1))\n",
    "plot_confusionMatrix(y_test_biopsy,y_pred_biopsy)"
   ]
  },
  {
   "cell_type": "markdown",
   "id": "006d355c-672e-4a81-b37d-78029f4d0b4d",
   "metadata": {},
   "source": [
    "#### SVM on After surgery dataset"
   ]
  },
  {
   "cell_type": "code",
   "execution_count": 119,
   "id": "e20d4d07-b77d-4806-9dd8-d0dbfbf53b0f",
   "metadata": {},
   "outputs": [
    {
     "name": "stdout",
     "output_type": "stream",
     "text": [
      "Score is 0.4830508474576271\n"
     ]
    }
   ],
   "source": [
    "svc = SVC()\n",
    "svc.fit(x_train_baseline,y_train_baseline)\n",
    "svc_score = svc.score(x_test_baseline,y_test_baseline)\n",
    "score_list_baseline[\"SVC\"] = svc_score\n",
    "print(f\"Score is {svc_score}\")"
   ]
  },
  {
   "cell_type": "markdown",
   "id": "a2feda23-5d71-4da3-b3f9-349bde6177ca",
   "metadata": {},
   "source": [
    "Our first algorithm's score is 48%. I think it is low, we  need further Literature"
   ]
  },
  {
   "cell_type": "code",
   "execution_count": 120,
   "id": "c423647f-76d5-4755-a7ac-51c3ff88532a",
   "metadata": {},
   "outputs": [
    {
     "data": {
      "image/png": "[encoded data removed]",
      "text/plain": [
       "<Figure size 500x500 with 2 Axes>"
      ]
     },
     "metadata": {},
     "output_type": "display_data"
    },
    {
     "data": {
      "text/plain": [
       "array([[  0,   0,   0,   1,   0],\n",
       "       [  0,   0,   0,   8,   0],\n",
       "       [  0,   0,   6,  51,   0],\n",
       "       [  0,   0,   3, 104,   2],\n",
       "       [  0,   0,   1,  56,   4]], dtype=int64)"
      ]
     },
     "execution_count": 120,
     "metadata": {},
     "output_type": "execute_result"
    }
   ],
   "source": [
    "y_pred_baseline = svc.predict(x_test_baseline)\n",
    "plot_confusionMatrix(y_test_baseline,y_pred_baseline)"
   ]
  },
  {
   "cell_type": "markdown",
   "id": "8f6b227a-b37e-4a15-99a9-b1c4c0b30582",
   "metadata": {},
   "source": [
    "### Naive Bayes Classification\n",
    "In this section I am going to use Naive Bayes Classification on both dataset before and after surgery for prostate detection."
   ]
  },
  {
   "cell_type": "markdown",
   "id": "ec08b2d5-a486-4016-afe5-2407a0e7e023",
   "metadata": {},
   "source": [
    "#### Naive Bayes Before surgery dataset"
   ]
  },
  {
   "cell_type": "code",
   "execution_count": 121,
   "id": "513bf9fc-b16a-4c68-9564-287dd14f35b1",
   "metadata": {},
   "outputs": [
    {
     "name": "stdout",
     "output_type": "stream",
     "text": [
      "Score is 0.3347457627118644\n"
     ]
    },
    {
     "name": "stderr",
     "output_type": "stream",
     "text": [
      "D:\\Interviews Stuff\\University of Galway\\Dataset\\packages\\lib\\site-packages\\sklearn\\utils\\validation.py:1141: DataConversionWarning: A column-vector y was passed when a 1d array was expected. Please change the shape of y to (n_samples, ), for example using ravel().\n",
      "  y = column_or_1d(y, warn=True)\n"
     ]
    }
   ],
   "source": [
    "nbc = GaussianNB()\n",
    "nbc.fit(x_train_biopsy.reshape(-1, 1),y_train_biopsy.reshape(-1, 1))\n",
    "nbc_score = nbc.score(x_test_biopsy.reshape(-1, 1),y_test_biopsy.reshape(-1, 1))\n",
    "score_list_biopsy[\"GaussianNBC\"] = nbc_score\n",
    "\n",
    "print(f\"Score is {nbc_score}\")"
   ]
  },
  {
   "cell_type": "markdown",
   "id": "655d7c08-13d4-4524-8994-b441a54ed6bb",
   "metadata": {},
   "source": [
    "* Our score is 33% which is lower then SVM"
   ]
  },
  {
   "cell_type": "code",
   "execution_count": 122,
   "id": "d913ed07-03a5-4436-a689-152b49b0c58c",
   "metadata": {},
   "outputs": [
    {
     "data": {
      "image/png": "[encoded data removed]",
      "text/plain": [
       "<Figure size 500x500 with 2 Axes>"
      ]
     },
     "metadata": {},
     "output_type": "display_data"
    },
    {
     "data": {
      "text/plain": [
       "array([[ 0,  1,  0,  0,  0],\n",
       "       [ 0,  8,  0,  0,  0],\n",
       "       [ 0, 49,  0,  4,  3],\n",
       "       [ 0, 41,  0, 20, 51],\n",
       "       [ 0,  1,  0,  7, 51]], dtype=int64)"
      ]
     },
     "execution_count": 122,
     "metadata": {},
     "output_type": "execute_result"
    }
   ],
   "source": [
    "\n",
    "y_pred_biopsy = nbc.predict(x_test_biopsy.reshape(-1, 1))\n",
    "plot_confusionMatrix(y_test_biopsy,y_pred_biopsy)"
   ]
  },
  {
   "cell_type": "markdown",
   "id": "bc0c0132-a4ae-4f10-9736-d66471f9ea45",
   "metadata": {},
   "source": [
    "#### Naive Bayes After surgery dataset"
   ]
  },
  {
   "cell_type": "code",
   "execution_count": 123,
   "id": "8ec75319-b98c-4608-872a-ee4883f3a4b8",
   "metadata": {},
   "outputs": [
    {
     "name": "stdout",
     "output_type": "stream",
     "text": [
      "Score is 0.4449152542372881\n"
     ]
    }
   ],
   "source": [
    "nbc = GaussianNB()\n",
    "nbc.fit(x_train_baseline,y_train_baseline)\n",
    "nbc_score = nbc.score(x_test_baseline,y_test_baseline)\n",
    "score_list_baseline[\"GaussianNBC\"] = nbc_score\n",
    "\n",
    "print(f\"Score is {nbc_score}\")"
   ]
  },
  {
   "cell_type": "markdown",
   "id": "dabfc5ef-c488-49aa-afa4-ea6267cd7e59",
   "metadata": {},
   "source": [
    "* Our score is 44% which is lower then SVM"
   ]
  },
  {
   "cell_type": "code",
   "execution_count": 124,
   "id": "bb0b0d5d-88e2-4151-b928-b031c4efd465",
   "metadata": {},
   "outputs": [
    {
     "data": {
      "image/png": "[encoded data removed]",
      "text/plain": [
       "<Figure size 500x500 with 2 Axes>"
      ]
     },
     "metadata": {},
     "output_type": "display_data"
    },
    {
     "data": {
      "text/plain": [
       "array([[ 0,  0,  0,  1,  0],\n",
       "       [ 0,  0,  2,  6,  0],\n",
       "       [ 0,  0,  7, 49,  1],\n",
       "       [ 0,  0, 14, 83, 12],\n",
       "       [ 0,  0,  3, 43, 15]], dtype=int64)"
      ]
     },
     "execution_count": 124,
     "metadata": {},
     "output_type": "execute_result"
    }
   ],
   "source": [
    "\n",
    "y_pred_baseline = nbc.predict(x_test_baseline)\n",
    "plot_confusionMatrix(y_test_baseline,y_pred_baseline)"
   ]
  },
  {
   "cell_type": "markdown",
   "id": "0658dbf6-9f37-41cc-9716-795f6a7bac9d",
   "metadata": {},
   "source": [
    "## Step 6: Result"
   ]
  },
  {
   "cell_type": "code",
   "execution_count": 127,
   "id": "41b0f3a4-6c2e-4c87-8920-89f8db0b52a9",
   "metadata": {},
   "outputs": [
    {
     "name": "stdout",
     "output_type": "stream",
     "text": [
      "{'SVC': 0.4872881355932203, 'GaussianNBC': 0.3347457627118644}\n",
      "{'SVC': 0.4830508474576271, 'GaussianNBC': 0.4449152542372881}\n"
     ]
    }
   ],
   "source": [
    "#Results of SVM and NaiveBayes before Surgery\n",
    "print(score_list_biopsy)\n",
    "\n",
    "#Results of SVM and NaiveBayes after Surgery\n",
    "print(score_list_baseline)"
   ]
  },
  {
   "cell_type": "code",
   "execution_count": null,
   "id": "288a03c5-0d2e-49e5-914e-70c7694fbf39",
   "metadata": {},
   "outputs": [],
   "source": []
  },
  {
   "cell_type": "code",
   "execution_count": null,
   "id": "811c197a-eff8-4186-995a-04281024d026",
   "metadata": {},
   "outputs": [],
   "source": []
  }
 ],
 "metadata": {
  "kernelspec": {
   "display_name": "Python 3 (ipykernel)",
   "language": "python",
   "name": "python3"
  },
  "language_info": {
   "codemirror_mode": {
    "name": "ipython",
    "version": 3
   },
   "file_extension": ".py",
   "mimetype": "text/x-python",
   "name": "python",
   "nbconvert_exporter": "python",
   "pygments_lexer": "ipython3",
   "version": "3.9.7"
  }
 },
 "nbformat": 4,
 "nbformat_minor": 5
}
