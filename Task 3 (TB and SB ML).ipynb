{
 "cells": [
  {
   "cell_type": "markdown",
   "id": "4a500473-ed81-4cd7-85f6-73361617b485",
   "metadata": {},
   "source": [
    "# Comparison systematic biopsy (SB) and MRI-targeted biopsy (TB) Task\n",
    "\n",
    "\n",
    "Can we compare the systematic biopsy (SB) and MRI-targeted biopsy (TB) results\n",
    "with a machine learning model? If yes, then how?\n",
    "\n",
    "## We will try to get answere using ML algorithm \n",
    " \n",
    "We will apply SVM on both of them to prove if there is any comparison\n",
    "\n",
    "* Support Vector Machine (SVM)\n",
    "\n",
    "Let's take a look at these steps\n",
    "\n",
    "# Steps\n",
    "1. Importing Libraries and Data\n",
    "2. Having Idea About Data\n",
    "1. Data Prepartion for Machine Learning\n",
    "1. Confusion Matrix Function\n",
    "1. Machine Learning Algorithm\n",
    "    * SVM Classification\n",
    "1. Result\n",
    "\n"
   ]
  },
  {
   "cell_type": "markdown",
   "id": "d5e9f198-ca54-41ce-b9d7-527128d2e9df",
   "metadata": {
    "tags": []
   },
   "source": [
    "## Step 1: Import Useful Libraries and Data"
   ]
  },
  {
   "cell_type": "code",
   "execution_count": 1,
   "id": "f7d906de-7c12-4ae9-af7e-2773d2f28014",
   "metadata": {},
   "outputs": [],
   "source": [
    "# For data analysis, we import pandas library\n",
    "import pandas as pd\n",
    "\n",
    "# For numerical computation, we will use numpy library\n",
    "import numpy as np\n",
    "\n",
    "# For data visualization, we will use matplotlib and seaborn library\n",
    "import matplotlib.pyplot as plt\n",
    "import seaborn as sns\n",
    "\n",
    "# For machine learning and data prepartion we will use the following library.\n",
    "from sklearn.model_selection import train_test_split\n",
    "from sklearn.metrics import confusion_matrix\n",
    "from sklearn.svm import SVC \n",
    "from sklearn.naive_bayes import GaussianNB\n"
   ]
  },
  {
   "cell_type": "code",
   "execution_count": 2,
   "id": "0858c884-4c20-460d-8df5-1b2c0dd58ffe",
   "metadata": {},
   "outputs": [],
   "source": [
    "#load data from excel file, since we have two sheets we will load them separately\n",
    "biopsy = pd.read_excel(\"MRI_Biopsy_Data.xls\", sheet_name=\"Biopsy\")\n"
   ]
  },
  {
   "cell_type": "markdown",
   "id": "5b334ba7-108b-4603-bde3-df1d404c648c",
   "metadata": {
    "tags": []
   },
   "source": [
    "## Step 2: Having Idea About Data"
   ]
  },
  {
   "cell_type": "code",
   "execution_count": 3,
   "id": "7cf251dd-2fce-4d2a-bb64-e9d6c7f78640",
   "metadata": {},
   "outputs": [
    {
     "data": {
      "text/html": [
       "<div>\n",
       "<style scoped>\n",
       "    .dataframe tbody tr th:only-of-type {\n",
       "        vertical-align: middle;\n",
       "    }\n",
       "\n",
       "    .dataframe tbody tr th {\n",
       "        vertical-align: top;\n",
       "    }\n",
       "\n",
       "    .dataframe thead th {\n",
       "        text-align: right;\n",
       "    }\n",
       "</style>\n",
       "<table border=\"1\" class=\"dataframe\">\n",
       "  <thead>\n",
       "    <tr style=\"text-align: right;\">\n",
       "      <th></th>\n",
       "      <th>PIRADS</th>\n",
       "      <th>Gleason_SB_TB</th>\n",
       "      <th>Gleason_TB</th>\n",
       "      <th>Gleason_SB</th>\n",
       "      <th>Scanner</th>\n",
       "      <th>IL_Localisation*</th>\n",
       "      <th>IL_Diameter*</th>\n",
       "    </tr>\n",
       "  </thead>\n",
       "  <tbody>\n",
       "    <tr>\n",
       "      <th>457</th>\n",
       "      <td>4</td>\n",
       "      <td>6.0</td>\n",
       "      <td>0.0</td>\n",
       "      <td>6.0</td>\n",
       "      <td>1.0</td>\n",
       "      <td>2</td>\n",
       "      <td>15.0</td>\n",
       "    </tr>\n",
       "    <tr>\n",
       "      <th>418</th>\n",
       "      <td>5</td>\n",
       "      <td>8.0</td>\n",
       "      <td>8.0</td>\n",
       "      <td>0.0</td>\n",
       "      <td>1.0</td>\n",
       "      <td>1</td>\n",
       "      <td>10.0</td>\n",
       "    </tr>\n",
       "    <tr>\n",
       "      <th>615</th>\n",
       "      <td>4</td>\n",
       "      <td>7.0</td>\n",
       "      <td>7.0</td>\n",
       "      <td>7.0</td>\n",
       "      <td>3.0</td>\n",
       "      <td>1</td>\n",
       "      <td>14.0</td>\n",
       "    </tr>\n",
       "    <tr>\n",
       "      <th>155</th>\n",
       "      <td>3</td>\n",
       "      <td>0.0</td>\n",
       "      <td>0.0</td>\n",
       "      <td>0.0</td>\n",
       "      <td>1.0</td>\n",
       "      <td>1</td>\n",
       "      <td>18.0</td>\n",
       "    </tr>\n",
       "    <tr>\n",
       "      <th>463</th>\n",
       "      <td>5</td>\n",
       "      <td>6.0</td>\n",
       "      <td>0.0</td>\n",
       "      <td>6.0</td>\n",
       "      <td>1.0</td>\n",
       "      <td>1</td>\n",
       "      <td>8.0</td>\n",
       "    </tr>\n",
       "  </tbody>\n",
       "</table>\n",
       "</div>"
      ],
      "text/plain": [
       "     PIRADS  Gleason_SB_TB  Gleason_TB  Gleason_SB  Scanner IL_Localisation*  \\\n",
       "457       4            6.0         0.0         6.0      1.0                2   \n",
       "418       5            8.0         8.0         0.0      1.0                1   \n",
       "615       4            7.0         7.0         7.0      3.0                1   \n",
       "155       3            0.0         0.0         0.0      1.0                1   \n",
       "463       5            6.0         0.0         6.0      1.0                1   \n",
       "\n",
       "     IL_Diameter*  \n",
       "457          15.0  \n",
       "418          10.0  \n",
       "615          14.0  \n",
       "155          18.0  \n",
       "463           8.0  "
      ]
     },
     "execution_count": 3,
     "metadata": {},
     "output_type": "execute_result"
    }
   ],
   "source": [
    "# check 5 random sample values from  Biopsy Sheet\n",
    "biopsy.sample(5)"
   ]
  },
  {
   "cell_type": "markdown",
   "id": "aa4a0aa1-6222-48fa-ab1f-8d4c9a520154",
   "metadata": {},
   "source": [
    "## Step 3: Data Prepartion for Machine Learning\n",
    "\n",
    "In this section I am going to split data into two pieces. Train and test. In order to do this I am going to use SKLearn library's Train Test Split Function."
   ]
  },
  {
   "cell_type": "code",
   "execution_count": 4,
   "id": "1e1d99bf-af47-4a06-8670-00d06052796b",
   "metadata": {},
   "outputs": [],
   "source": [
    "#get the data and put it in separate numpy array\n",
    "Gleason_TB = np.array(biopsy['Gleason_TB'])\n",
    "Gleason_SB = np.array(biopsy['Gleason_SB'])\n",
    "biopsy_output = np.array(biopsy[\"PIRADS\"])\n"
   ]
  },
  {
   "cell_type": "code",
   "execution_count": 5,
   "id": "557d518e-d406-4f0b-b240-6b930cfc458b",
   "metadata": {},
   "outputs": [],
   "source": [
    "#Before surgery Test train split\n",
    "x_train_Gleason_TB,x_test_Gleason_TB,y_train_Gleason_TB,y_test_Gleason_TB = train_test_split(Gleason_TB,biopsy_output,random_state=1,test_size=0.3)\n",
    "\n",
    "#after surgery Test train split\n",
    "x_train_Gleason_SB,x_test_Gleason_SB,y_train_Gleason_SB,y_test_Gleason_SB = train_test_split(Gleason_SB,biopsy_output,random_state=1,test_size=0.3)"
   ]
  },
  {
   "cell_type": "markdown",
   "id": "ac142099-0eb1-480f-964c-193c7282b485",
   "metadata": {},
   "source": [
    "## Step 4: Confusion Matrix Function\n",
    "\n",
    "In this section I am going to define a function that creates a seaborn heatmap from a confusion matrix."
   ]
  },
  {
   "cell_type": "code",
   "execution_count": 6,
   "id": "cb0df0fd-3dca-4b92-963d-2f90de1ae893",
   "metadata": {},
   "outputs": [],
   "source": [
    "def plot_confusionMatrix(y_true,y_pred):\n",
    "    cn = confusion_matrix(y_true=y_true,y_pred=y_pred)\n",
    "    \n",
    "    fig,ax = plt.subplots(figsize=(5,5))\n",
    "    sns.heatmap(cn,annot=True,linewidths=1.5)\n",
    "    plt.show()\n",
    "    return cn"
   ]
  },
  {
   "cell_type": "code",
   "execution_count": 8,
   "id": "a973a8bc-c22f-42b8-b1d1-d857956447a4",
   "metadata": {},
   "outputs": [],
   "source": [
    "score_list = {} # I've created this dict for saving score variables into it of both experiments "
   ]
  },
  {
   "cell_type": "markdown",
   "id": "7417c873-90a9-400f-a2e1-9e9ebc0d47dc",
   "metadata": {},
   "source": [
    "### Support Vector Machine Comparision\n",
    "In this section I am going to use SVM classification to find out the required question"
   ]
  },
  {
   "cell_type": "markdown",
   "id": "80ec1302-c2ef-4ddd-86a3-8e1793f44bca",
   "metadata": {},
   "source": [
    "#### SVM MRI-targeted biopsy (TB)"
   ]
  },
  {
   "cell_type": "code",
   "execution_count": 11,
   "id": "ad8fc67c-4e94-4e25-b02c-1b3f2b088aa5",
   "metadata": {},
   "outputs": [
    {
     "name": "stdout",
     "output_type": "stream",
     "text": [
      "Score is 0.4957627118644068\n"
     ]
    },
    {
     "name": "stderr",
     "output_type": "stream",
     "text": [
      "D:\\Interviews Stuff\\University of Galway\\Dataset\\packages\\lib\\site-packages\\sklearn\\utils\\validation.py:1141: DataConversionWarning: A column-vector y was passed when a 1d array was expected. Please change the shape of y to (n_samples, ), for example using ravel().\n",
      "  y = column_or_1d(y, warn=True)\n"
     ]
    }
   ],
   "source": [
    "svc = SVC()\n",
    "svc.fit(x_train_Gleason_TB.reshape(-1, 1),y_train_Gleason_TB.reshape(-1, 1))\n",
    "svc_score = svc.score(x_test_Gleason_TB.reshape(-1, 1),y_test_Gleason_TB.reshape(-1, 1))\n",
    "score_list[\"Gleason_TB\"] = svc_score\n",
    "print(f\"Score is {svc_score}\")"
   ]
  },
  {
   "cell_type": "markdown",
   "id": "2481def8-103f-43fc-a4eb-2527148b3004",
   "metadata": {},
   "source": [
    "* Our first algorithm's score is 49%. I think it is low, we  need further Literature"
   ]
  },
  {
   "cell_type": "markdown",
   "id": "006d355c-672e-4a81-b37d-78029f4d0b4d",
   "metadata": {},
   "source": [
    "#### SVM systematic biopsy (SB)"
   ]
  },
  {
   "cell_type": "code",
   "execution_count": 12,
   "id": "e20d4d07-b77d-4806-9dd8-d0dbfbf53b0f",
   "metadata": {},
   "outputs": [
    {
     "name": "stdout",
     "output_type": "stream",
     "text": [
      "Score is 0.4957627118644068\n"
     ]
    },
    {
     "name": "stderr",
     "output_type": "stream",
     "text": [
      "D:\\Interviews Stuff\\University of Galway\\Dataset\\packages\\lib\\site-packages\\sklearn\\utils\\validation.py:1141: DataConversionWarning: A column-vector y was passed when a 1d array was expected. Please change the shape of y to (n_samples, ), for example using ravel().\n",
      "  y = column_or_1d(y, warn=True)\n"
     ]
    }
   ],
   "source": [
    "svc = SVC()\n",
    "svc.fit(x_train_Gleason_SB.reshape(-1, 1),y_train_Gleason_SB.reshape(-1, 1))\n",
    "svc_score = svc.score(x_test_Gleason_SB.reshape(-1, 1),y_test_Gleason_SB.reshape(-1, 1))\n",
    "score_list[\"Gleason_SB\"] = svc_score\n",
    "print(f\"Score is {svc_score}\")"
   ]
  },
  {
   "cell_type": "markdown",
   "id": "a2feda23-5d71-4da3-b3f9-349bde6177ca",
   "metadata": {},
   "source": [
    "Our first algorithm's score is 49%. I think it is low, we  need further Literature"
   ]
  },
  {
   "cell_type": "markdown",
   "id": "0658dbf6-9f37-41cc-9716-795f6a7bac9d",
   "metadata": {},
   "source": [
    "## Step 6: Result"
   ]
  },
  {
   "cell_type": "code",
   "execution_count": 13,
   "id": "41b0f3a4-6c2e-4c87-8920-89f8db0b52a9",
   "metadata": {},
   "outputs": [
    {
     "name": "stdout",
     "output_type": "stream",
     "text": [
      "{'Gleason_TB': 0.4957627118644068, 'Gleason_SB': 0.4957627118644068}\n"
     ]
    }
   ],
   "source": [
    "#Results of SVM and NaiveBayes before Surgery\n",
    "print(score_list)"
   ]
  },
  {
   "cell_type": "markdown",
   "id": "d71df912-a2c5-4427-93b1-7a2b54e32484",
   "metadata": {},
   "source": [
    "* we get the same result using SVM and which is indicating that we can compare systematic biopsy (SB) and MRI-targeted biopsy (TB) results using ML algorithm. In our case the dataset is giving same result."
   ]
  },
  {
   "cell_type": "code",
   "execution_count": null,
   "id": "811c197a-eff8-4186-995a-04281024d026",
   "metadata": {},
   "outputs": [],
   "source": []
  }
 ],
 "metadata": {
  "kernelspec": {
   "display_name": "Python 3 (ipykernel)",
   "language": "python",
   "name": "python3"
  },
  "language_info": {
   "codemirror_mode": {
    "name": "ipython",
    "version": 3
   },
   "file_extension": ".py",
   "mimetype": "text/x-python",
   "name": "python",
   "nbconvert_exporter": "python",
   "pygments_lexer": "ipython3",
   "version": "3.9.7"
  }
 },
 "nbformat": 4,
 "nbformat_minor": 5
}
